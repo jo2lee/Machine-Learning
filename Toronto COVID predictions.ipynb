{
  "nbformat": 4,
  "nbformat_minor": 0,
  "metadata": {
    "colab": {
      "name": "TorontoCovid_MASTER.ipynb",
      "provenance": [],
      "collapsed_sections": [],
      "toc_visible": true,
      "include_colab_link": true
    },
    "kernelspec": {
      "name": "python3",
      "display_name": "Python 3"
    }
  },
  "cells": [
    {
      "cell_type": "markdown",
      "metadata": {
        "id": "view-in-github",
        "colab_type": "text"
      },
      "source": [
        "<a href=\"https://colab.research.google.com/github/jo2lee/Machine-Learning/blob/main/Toronto%20COVID%20predictions.ipynb\" target=\"_parent\"><img src=\"https://colab.research.google.com/assets/colab-badge.svg\" alt=\"Open In Colab\"/></a>"
      ]
    },
    {
      "cell_type": "markdown",
      "metadata": {
        "id": "ZjZV7RiKBxSl"
      },
      "source": [
        "#Looking at Toronto Covid19 Cases in 2020\n",
        "##### Our goal in this project is to create a model of whether patients who still have COVID19 will survive or not based on the previous data. This data set was taken from Kaggle (https://www.kaggle.com/divyansh22/toronto-covid19-cases), however the data is not up-to-date. The reported cases with the patients' outcomes are from Jan 22, 2020 to June 30, 2020. There are patients that have the status 'ACTIVE' from June 30, 2020 to July 12, 2020. We would like to find out the ACTIVE patients' outcomes using the best model."
      ]
    },
    {
      "cell_type": "markdown",
      "metadata": {
        "id": "fZeeMubSBmrY"
      },
      "source": [
        "## Import dataset and libraries"
      ]
    },
    {
      "cell_type": "code",
      "metadata": {
        "id": "suYymls4igsp"
      },
      "source": [
        ""
      ],
      "execution_count": null,
      "outputs": []
    },
    {
      "cell_type": "code",
      "metadata": {
        "id": "sTD4tqpKrsR8"
      },
      "source": [
        "import pandas as pd\n",
        "import numpy as np\n",
        "import matplotlib.pyplot as plt\n",
        "import seaborn as sns\n",
        "sns.set(style=\"darkgrid\")\n",
        "%matplotlib inline\n",
        "\n",
        "import os\n",
        "\n",
        "# to make this notebook's output stable across runs\n",
        "np.random.seed(1)\n",
        "\n",
        "# To plot pretty figures\n",
        "%matplotlib inline\n",
        "import matplotlib as mpl\n",
        "import matplotlib.pyplot as plt\n",
        "mpl.rc('axes', labelsize=14)\n",
        "mpl.rc('xtick', labelsize=12)\n",
        "mpl.rc('ytick', labelsize=12)\n",
        "\n",
        "# Ignore useless warnings (see SciPy issue #5998)\n",
        "import warnings\n",
        "warnings.filterwarnings(action=\"ignore\", message=\"^internal gelsd\")\n",
        "\n"
      ],
      "execution_count": null,
      "outputs": []
    },
    {
      "cell_type": "code",
      "metadata": {
        "id": "Bsf3GywXjNIS"
      },
      "source": [
        "!pip install -U -q PyDrive\n",
        "from pydrive.auth import GoogleAuth\n",
        "from pydrive.drive import GoogleDrive\n",
        "from google.colab import auth\n",
        "from oauth2client.client import GoogleCredentials\n",
        "import os\n",
        "import pandas as pd\n",
        "auth.authenticate_user()\n",
        "gauth = GoogleAuth()\n",
        "gauth.credentials = GoogleCredentials.get_application_default()\n",
        "drive = GoogleDrive(gauth)"
      ],
      "execution_count": null,
      "outputs": []
    },
    {
      "cell_type": "code",
      "metadata": {
        "colab": {
          "base_uri": "https://localhost:8080/"
        },
        "id": "Idj0tMbPkcmB",
        "outputId": "19aa507a-800f-4a97-ab47-57c707a687e7"
      },
      "source": [
        "file_list = drive.ListFile({'q': \"'1M51HZjFFHONXIdLJPkAjlABizTS4MX4x' in parents and trashed=false\"}).GetList()\n",
        "for file1 in file_list:\n",
        "  print('title: %s, id: %s' % (file1['title'], file1['id']))"
      ],
      "execution_count": null,
      "outputs": [
        {
          "output_type": "stream",
          "text": [
            "title: TorontoCovid_MASTER.ipynb, id: 1lO-a5PsWHWj10AEcF7IlbXumrdcyPAZt\n",
            "title: toronto_weather.xlsx, id: 1wfC0Xp8I4j706J9iuca9KipjD9M88BLK\n",
            "title: Lucas TorontoCovid.ipynb, id: 1TLnSt3cSbDOiTmZqtPMbsa6sF5xh3m6d\n",
            "title: neighbourhood-profiles-2016-csv.csv, id: 1oKweXbDdvAEjsPzEp6gT50xnjuSIVNfJ\n",
            "title: Neighbourhood_Population.xlsx, id: 1emJZ439GN85T8VevJYsTjVQe81vSUB-g\n",
            "title: Ideas, id: 1aOeyi1IHxF_QQclfBdAxssrgD6to-xl8rjC2ZCN8iqk\n",
            "title: covidtoronto, id: 1c9y7F3ba4iIdj55Ng9bNYVRCoxGk2v9S\n",
            "title: Copy of COVID19 cases Toronto.csv, id: 1GjsKQCdXMR06CeHA9268qxcJFp4Gfjzo\n",
            "title: COVID19 cases Toronto.xlsx, id: 1Nkp2iHf4qm-PTBMPo1zJBM90oFg9TlYY\n"
          ],
          "name": "stdout"
        }
      ]
    },
    {
      "cell_type": "code",
      "metadata": {
        "id": "6dwB7-1yjYjv"
      },
      "source": [
        "data_downloaded = drive.CreateFile({'id': '1Nkp2iHf4qm-PTBMPo1zJBM90oFg9TlYY'})\n",
        "data_downloaded.GetContentFile('COVID19 cases Toronto.xlsx')\n",
        "\n",
        "data_downloaded = drive.CreateFile({'id': '1emJZ439GN85T8VevJYsTjVQe81vSUB-g'})\n",
        "data_downloaded.GetContentFile('Neighbourhood_Population.xlsx')\n",
        "\n",
        "data_downloaded = drive.CreateFile({'id': '1wfC0Xp8I4j706J9iuca9KipjD9M88BLK'})\n",
        "data_downloaded.GetContentFile('toronto_weather.xlsx')\n"
      ],
      "execution_count": null,
      "outputs": []
    },
    {
      "cell_type": "code",
      "metadata": {
        "id": "opwDe1cocwKq"
      },
      "source": [
        "#import data\n",
        "df_covid_1=pd.read_excel('COVID19 cases Toronto.xlsx') #original file for COVID19 cases\n",
        "\n",
        "df_pop=pd.read_excel('Neighbourhood_Population.xlsx') #neighbourhood population density data\n",
        "\n",
        "df_temp_0=pd.read_excel('toronto_weather.xlsx', usecols = ['Date/Time', 'Mean Temp (°C)']) #Toronto Temperature data \n",
        "df_temp = df_temp_0.rename(columns={\"Date/Time\": \"Reported Date\", \"Mean Temp (°C)\": \"Mean_temp_C\"})\n",
        "df_temp['Reported Date'] = pd.to_datetime(df_temp['Reported Date'])"
      ],
      "execution_count": null,
      "outputs": []
    },
    {
      "cell_type": "code",
      "metadata": {
        "colab": {
          "base_uri": "https://localhost:8080/",
          "height": 377
        },
        "id": "rhEAHrbc_6dU",
        "outputId": "bee2f72f-478b-4aba-f36a-3ac47258f6bd"
      },
      "source": [
        "#merge density population and temperature into the covid dataset\n",
        "df_1 = pd.merge (df_covid, df_temp, how = 'left', on = [\"Reported Date\"])\n",
        "\n",
        "df = pd.merge (df_1, df_pop, how = 'left', on = [\"Neighbourhood Name\"])\n",
        "df.head()\n"
      ],
      "execution_count": null,
      "outputs": [
        {
          "output_type": "execute_result",
          "data": {
            "text/html": [
              "<div>\n",
              "<style scoped>\n",
              "    .dataframe tbody tr th:only-of-type {\n",
              "        vertical-align: middle;\n",
              "    }\n",
              "\n",
              "    .dataframe tbody tr th {\n",
              "        vertical-align: top;\n",
              "    }\n",
              "\n",
              "    .dataframe thead th {\n",
              "        text-align: right;\n",
              "    }\n",
              "</style>\n",
              "<table border=\"1\" class=\"dataframe\">\n",
              "  <thead>\n",
              "    <tr style=\"text-align: right;\">\n",
              "      <th></th>\n",
              "      <th>_id</th>\n",
              "      <th>Outbreak Associated</th>\n",
              "      <th>Age Group</th>\n",
              "      <th>Neighbourhood Name</th>\n",
              "      <th>FSA</th>\n",
              "      <th>Source of Infection</th>\n",
              "      <th>Classification</th>\n",
              "      <th>Episode Date</th>\n",
              "      <th>Reported Date</th>\n",
              "      <th>Client Gender</th>\n",
              "      <th>Outcome</th>\n",
              "      <th>Currently Hospitalized</th>\n",
              "      <th>Currently in ICU</th>\n",
              "      <th>Currently Intubated</th>\n",
              "      <th>Ever Hospitalized</th>\n",
              "      <th>Ever in ICU</th>\n",
              "      <th>Ever Intubated</th>\n",
              "      <th>Mean_temp_C</th>\n",
              "      <th>Population density per square kilometre</th>\n",
              "    </tr>\n",
              "  </thead>\n",
              "  <tbody>\n",
              "    <tr>\n",
              "      <th>0</th>\n",
              "      <td>44294</td>\n",
              "      <td>Sporadic</td>\n",
              "      <td>50-59</td>\n",
              "      <td>Malvern</td>\n",
              "      <td>M1B</td>\n",
              "      <td>Institutional</td>\n",
              "      <td>CONFIRMED</td>\n",
              "      <td>2020-03-25</td>\n",
              "      <td>2020-03-27</td>\n",
              "      <td>MALE</td>\n",
              "      <td>RESOLVED</td>\n",
              "      <td>No</td>\n",
              "      <td>No</td>\n",
              "      <td>No</td>\n",
              "      <td>No</td>\n",
              "      <td>No</td>\n",
              "      <td>No</td>\n",
              "      <td>5.2</td>\n",
              "      <td>4948.0</td>\n",
              "    </tr>\n",
              "    <tr>\n",
              "      <th>1</th>\n",
              "      <td>44295</td>\n",
              "      <td>Sporadic</td>\n",
              "      <td>20-29</td>\n",
              "      <td>Malvern</td>\n",
              "      <td>M1B</td>\n",
              "      <td>Community</td>\n",
              "      <td>CONFIRMED</td>\n",
              "      <td>2020-03-20</td>\n",
              "      <td>2020-03-28</td>\n",
              "      <td>MALE</td>\n",
              "      <td>RESOLVED</td>\n",
              "      <td>No</td>\n",
              "      <td>No</td>\n",
              "      <td>No</td>\n",
              "      <td>Yes</td>\n",
              "      <td>No</td>\n",
              "      <td>No</td>\n",
              "      <td>5.3</td>\n",
              "      <td>4948.0</td>\n",
              "    </tr>\n",
              "    <tr>\n",
              "      <th>2</th>\n",
              "      <td>44296</td>\n",
              "      <td>Sporadic</td>\n",
              "      <td>60-69</td>\n",
              "      <td>Malvern</td>\n",
              "      <td>M1B</td>\n",
              "      <td>Travel</td>\n",
              "      <td>CONFIRMED</td>\n",
              "      <td>2020-03-04</td>\n",
              "      <td>2020-03-08</td>\n",
              "      <td>FEMALE</td>\n",
              "      <td>RESOLVED</td>\n",
              "      <td>No</td>\n",
              "      <td>No</td>\n",
              "      <td>No</td>\n",
              "      <td>Yes</td>\n",
              "      <td>Yes</td>\n",
              "      <td>Yes</td>\n",
              "      <td>6.3</td>\n",
              "      <td>4948.0</td>\n",
              "    </tr>\n",
              "    <tr>\n",
              "      <th>3</th>\n",
              "      <td>44297</td>\n",
              "      <td>Outbreak Associated</td>\n",
              "      <td>50-59</td>\n",
              "      <td>Rouge</td>\n",
              "      <td>M1B</td>\n",
              "      <td>N/A - Outbreak associated</td>\n",
              "      <td>CONFIRMED</td>\n",
              "      <td>2020-05-02</td>\n",
              "      <td>2020-05-04</td>\n",
              "      <td>FEMALE</td>\n",
              "      <td>RESOLVED</td>\n",
              "      <td>No</td>\n",
              "      <td>No</td>\n",
              "      <td>No</td>\n",
              "      <td>No</td>\n",
              "      <td>No</td>\n",
              "      <td>No</td>\n",
              "      <td>6.6</td>\n",
              "      <td>1260.0</td>\n",
              "    </tr>\n",
              "    <tr>\n",
              "      <th>4</th>\n",
              "      <td>44298</td>\n",
              "      <td>Sporadic</td>\n",
              "      <td>30-39</td>\n",
              "      <td>Rouge</td>\n",
              "      <td>M1B</td>\n",
              "      <td>Close contact</td>\n",
              "      <td>CONFIRMED</td>\n",
              "      <td>2020-05-31</td>\n",
              "      <td>2020-06-06</td>\n",
              "      <td>FEMALE</td>\n",
              "      <td>RESOLVED</td>\n",
              "      <td>No</td>\n",
              "      <td>No</td>\n",
              "      <td>No</td>\n",
              "      <td>No</td>\n",
              "      <td>No</td>\n",
              "      <td>No</td>\n",
              "      <td>20.0</td>\n",
              "      <td>1260.0</td>\n",
              "    </tr>\n",
              "  </tbody>\n",
              "</table>\n",
              "</div>"
            ],
            "text/plain": [
              "     _id  ... Population density per square kilometre\n",
              "0  44294  ...                                  4948.0\n",
              "1  44295  ...                                  4948.0\n",
              "2  44296  ...                                  4948.0\n",
              "3  44297  ...                                  1260.0\n",
              "4  44298  ...                                  1260.0\n",
              "\n",
              "[5 rows x 19 columns]"
            ]
          },
          "metadata": {
            "tags": []
          },
          "execution_count": 133
        }
      ]
    },
    {
      "cell_type": "markdown",
      "metadata": {
        "id": "pAgrtjWf_-kT"
      },
      "source": [
        "## Describing Data Set"
      ]
    },
    {
      "cell_type": "markdown",
      "metadata": {
        "id": "gwlHQft5Rkfg"
      },
      "source": [
        "### Understanding the dataset with tables"
      ]
    },
    {
      "cell_type": "code",
      "metadata": {
        "colab": {
          "base_uri": "https://localhost:8080/",
          "height": 377
        },
        "id": "9NUgz7fr6lph",
        "outputId": "1088f3ac-eedc-4661-b83f-1b42ecbafaaa"
      },
      "source": [
        "df.head() #dataset that include temperature and population density too"
      ],
      "execution_count": null,
      "outputs": [
        {
          "output_type": "execute_result",
          "data": {
            "text/html": [
              "<div>\n",
              "<style scoped>\n",
              "    .dataframe tbody tr th:only-of-type {\n",
              "        vertical-align: middle;\n",
              "    }\n",
              "\n",
              "    .dataframe tbody tr th {\n",
              "        vertical-align: top;\n",
              "    }\n",
              "\n",
              "    .dataframe thead th {\n",
              "        text-align: right;\n",
              "    }\n",
              "</style>\n",
              "<table border=\"1\" class=\"dataframe\">\n",
              "  <thead>\n",
              "    <tr style=\"text-align: right;\">\n",
              "      <th></th>\n",
              "      <th>_id</th>\n",
              "      <th>Outbreak Associated</th>\n",
              "      <th>Age Group</th>\n",
              "      <th>Neighbourhood Name</th>\n",
              "      <th>FSA</th>\n",
              "      <th>Source of Infection</th>\n",
              "      <th>Classification</th>\n",
              "      <th>Episode Date</th>\n",
              "      <th>Reported Date</th>\n",
              "      <th>Client Gender</th>\n",
              "      <th>Outcome</th>\n",
              "      <th>Currently Hospitalized</th>\n",
              "      <th>Currently in ICU</th>\n",
              "      <th>Currently Intubated</th>\n",
              "      <th>Ever Hospitalized</th>\n",
              "      <th>Ever in ICU</th>\n",
              "      <th>Ever Intubated</th>\n",
              "      <th>Mean_temp_C</th>\n",
              "      <th>Population density per square kilometre</th>\n",
              "    </tr>\n",
              "  </thead>\n",
              "  <tbody>\n",
              "    <tr>\n",
              "      <th>0</th>\n",
              "      <td>44294</td>\n",
              "      <td>Sporadic</td>\n",
              "      <td>50-59</td>\n",
              "      <td>Malvern</td>\n",
              "      <td>M1B</td>\n",
              "      <td>Institutional</td>\n",
              "      <td>CONFIRMED</td>\n",
              "      <td>2020-03-25</td>\n",
              "      <td>2020-03-27</td>\n",
              "      <td>MALE</td>\n",
              "      <td>RESOLVED</td>\n",
              "      <td>No</td>\n",
              "      <td>No</td>\n",
              "      <td>No</td>\n",
              "      <td>No</td>\n",
              "      <td>No</td>\n",
              "      <td>No</td>\n",
              "      <td>5.2</td>\n",
              "      <td>4948.0</td>\n",
              "    </tr>\n",
              "    <tr>\n",
              "      <th>1</th>\n",
              "      <td>44295</td>\n",
              "      <td>Sporadic</td>\n",
              "      <td>20-29</td>\n",
              "      <td>Malvern</td>\n",
              "      <td>M1B</td>\n",
              "      <td>Community</td>\n",
              "      <td>CONFIRMED</td>\n",
              "      <td>2020-03-20</td>\n",
              "      <td>2020-03-28</td>\n",
              "      <td>MALE</td>\n",
              "      <td>RESOLVED</td>\n",
              "      <td>No</td>\n",
              "      <td>No</td>\n",
              "      <td>No</td>\n",
              "      <td>Yes</td>\n",
              "      <td>No</td>\n",
              "      <td>No</td>\n",
              "      <td>5.3</td>\n",
              "      <td>4948.0</td>\n",
              "    </tr>\n",
              "    <tr>\n",
              "      <th>2</th>\n",
              "      <td>44296</td>\n",
              "      <td>Sporadic</td>\n",
              "      <td>60-69</td>\n",
              "      <td>Malvern</td>\n",
              "      <td>M1B</td>\n",
              "      <td>Travel</td>\n",
              "      <td>CONFIRMED</td>\n",
              "      <td>2020-03-04</td>\n",
              "      <td>2020-03-08</td>\n",
              "      <td>FEMALE</td>\n",
              "      <td>RESOLVED</td>\n",
              "      <td>No</td>\n",
              "      <td>No</td>\n",
              "      <td>No</td>\n",
              "      <td>Yes</td>\n",
              "      <td>Yes</td>\n",
              "      <td>Yes</td>\n",
              "      <td>6.3</td>\n",
              "      <td>4948.0</td>\n",
              "    </tr>\n",
              "    <tr>\n",
              "      <th>3</th>\n",
              "      <td>44297</td>\n",
              "      <td>Outbreak Associated</td>\n",
              "      <td>50-59</td>\n",
              "      <td>Rouge</td>\n",
              "      <td>M1B</td>\n",
              "      <td>N/A - Outbreak associated</td>\n",
              "      <td>CONFIRMED</td>\n",
              "      <td>2020-05-02</td>\n",
              "      <td>2020-05-04</td>\n",
              "      <td>FEMALE</td>\n",
              "      <td>RESOLVED</td>\n",
              "      <td>No</td>\n",
              "      <td>No</td>\n",
              "      <td>No</td>\n",
              "      <td>No</td>\n",
              "      <td>No</td>\n",
              "      <td>No</td>\n",
              "      <td>6.6</td>\n",
              "      <td>1260.0</td>\n",
              "    </tr>\n",
              "    <tr>\n",
              "      <th>4</th>\n",
              "      <td>44298</td>\n",
              "      <td>Sporadic</td>\n",
              "      <td>30-39</td>\n",
              "      <td>Rouge</td>\n",
              "      <td>M1B</td>\n",
              "      <td>Close contact</td>\n",
              "      <td>CONFIRMED</td>\n",
              "      <td>2020-05-31</td>\n",
              "      <td>2020-06-06</td>\n",
              "      <td>FEMALE</td>\n",
              "      <td>RESOLVED</td>\n",
              "      <td>No</td>\n",
              "      <td>No</td>\n",
              "      <td>No</td>\n",
              "      <td>No</td>\n",
              "      <td>No</td>\n",
              "      <td>No</td>\n",
              "      <td>20.0</td>\n",
              "      <td>1260.0</td>\n",
              "    </tr>\n",
              "  </tbody>\n",
              "</table>\n",
              "</div>"
            ],
            "text/plain": [
              "     _id  ... Population density per square kilometre\n",
              "0  44294  ...                                  4948.0\n",
              "1  44295  ...                                  4948.0\n",
              "2  44296  ...                                  4948.0\n",
              "3  44297  ...                                  1260.0\n",
              "4  44298  ...                                  1260.0\n",
              "\n",
              "[5 rows x 19 columns]"
            ]
          },
          "metadata": {
            "tags": []
          },
          "execution_count": 134
        }
      ]
    },
    {
      "cell_type": "code",
      "metadata": {
        "colab": {
          "base_uri": "https://localhost:8080/",
          "height": 297
        },
        "id": "pmTuBoA96of2",
        "outputId": "3bf57739-71ae-4e33-ad4a-50b6d5032c0e"
      },
      "source": [
        "df.describe()"
      ],
      "execution_count": null,
      "outputs": [
        {
          "output_type": "execute_result",
          "data": {
            "text/html": [
              "<div>\n",
              "<style scoped>\n",
              "    .dataframe tbody tr th:only-of-type {\n",
              "        vertical-align: middle;\n",
              "    }\n",
              "\n",
              "    .dataframe tbody tr th {\n",
              "        vertical-align: top;\n",
              "    }\n",
              "\n",
              "    .dataframe thead th {\n",
              "        text-align: right;\n",
              "    }\n",
              "</style>\n",
              "<table border=\"1\" class=\"dataframe\">\n",
              "  <thead>\n",
              "    <tr style=\"text-align: right;\">\n",
              "      <th></th>\n",
              "      <th>_id</th>\n",
              "      <th>Mean_temp_C</th>\n",
              "      <th>Population density per square kilometre</th>\n",
              "    </tr>\n",
              "  </thead>\n",
              "  <tbody>\n",
              "    <tr>\n",
              "      <th>count</th>\n",
              "      <td>14911.000000</td>\n",
              "      <td>14911.000000</td>\n",
              "      <td>14298.000000</td>\n",
              "    </tr>\n",
              "    <tr>\n",
              "      <th>mean</th>\n",
              "      <td>51749.000000</td>\n",
              "      <td>11.410757</td>\n",
              "      <td>6017.100643</td>\n",
              "    </tr>\n",
              "    <tr>\n",
              "      <th>std</th>\n",
              "      <td>4304.579267</td>\n",
              "      <td>7.852752</td>\n",
              "      <td>5689.071753</td>\n",
              "    </tr>\n",
              "    <tr>\n",
              "      <th>min</th>\n",
              "      <td>44294.000000</td>\n",
              "      <td>-8.900000</td>\n",
              "      <td>1040.000000</td>\n",
              "    </tr>\n",
              "    <tr>\n",
              "      <th>25%</th>\n",
              "      <td>48021.500000</td>\n",
              "      <td>5.100000</td>\n",
              "      <td>3130.000000</td>\n",
              "    </tr>\n",
              "    <tr>\n",
              "      <th>50%</th>\n",
              "      <td>51749.000000</td>\n",
              "      <td>10.300000</td>\n",
              "      <td>4691.000000</td>\n",
              "    </tr>\n",
              "    <tr>\n",
              "      <th>75%</th>\n",
              "      <td>55476.500000</td>\n",
              "      <td>18.400000</td>\n",
              "      <td>7197.000000</td>\n",
              "    </tr>\n",
              "    <tr>\n",
              "      <th>max</th>\n",
              "      <td>59204.000000</td>\n",
              "      <td>28.400000</td>\n",
              "      <td>44321.000000</td>\n",
              "    </tr>\n",
              "  </tbody>\n",
              "</table>\n",
              "</div>"
            ],
            "text/plain": [
              "                _id   Mean_temp_C  Population density per square kilometre\n",
              "count  14911.000000  14911.000000                             14298.000000\n",
              "mean   51749.000000     11.410757                              6017.100643\n",
              "std     4304.579267      7.852752                              5689.071753\n",
              "min    44294.000000     -8.900000                              1040.000000\n",
              "25%    48021.500000      5.100000                              3130.000000\n",
              "50%    51749.000000     10.300000                              4691.000000\n",
              "75%    55476.500000     18.400000                              7197.000000\n",
              "max    59204.000000     28.400000                             44321.000000"
            ]
          },
          "metadata": {
            "tags": []
          },
          "execution_count": 135
        }
      ]
    },
    {
      "cell_type": "code",
      "metadata": {
        "colab": {
          "base_uri": "https://localhost:8080/"
        },
        "id": "hO-iB5Nl6r_V",
        "outputId": "46778f0b-2ee6-43e5-e3d4-cdcb8af08646"
      },
      "source": [
        "df.info()"
      ],
      "execution_count": null,
      "outputs": [
        {
          "output_type": "stream",
          "text": [
            "<class 'pandas.core.frame.DataFrame'>\n",
            "Int64Index: 14911 entries, 0 to 14910\n",
            "Data columns (total 19 columns):\n",
            " #   Column                                   Non-Null Count  Dtype         \n",
            "---  ------                                   --------------  -----         \n",
            " 0   _id                                      14911 non-null  int64         \n",
            " 1   Outbreak Associated                      14911 non-null  object        \n",
            " 2   Age Group                                14879 non-null  object        \n",
            " 3   Neighbourhood Name                       14298 non-null  object        \n",
            " 4   FSA                                      14344 non-null  object        \n",
            " 5   Source of Infection                      14911 non-null  object        \n",
            " 6   Classification                           14911 non-null  object        \n",
            " 7   Episode Date                             14911 non-null  datetime64[ns]\n",
            " 8   Reported Date                            14911 non-null  datetime64[ns]\n",
            " 9   Client Gender                            14911 non-null  object        \n",
            " 10  Outcome                                  14911 non-null  object        \n",
            " 11  Currently Hospitalized                   14911 non-null  object        \n",
            " 12  Currently in ICU                         14911 non-null  object        \n",
            " 13  Currently Intubated                      14911 non-null  object        \n",
            " 14  Ever Hospitalized                        14911 non-null  object        \n",
            " 15  Ever in ICU                              14911 non-null  object        \n",
            " 16  Ever Intubated                           14911 non-null  object        \n",
            " 17  Mean_temp_C                              14911 non-null  float64       \n",
            " 18  Population density per square kilometre  14298 non-null  float64       \n",
            "dtypes: datetime64[ns](2), float64(2), int64(1), object(14)\n",
            "memory usage: 2.3+ MB\n"
          ],
          "name": "stdout"
        }
      ]
    },
    {
      "cell_type": "code",
      "metadata": {
        "colab": {
          "base_uri": "https://localhost:8080/"
        },
        "id": "8Zw-GU3y7abN",
        "outputId": "2a6265e1-a352-4790-ba69-7eef29417022"
      },
      "source": [
        "df['Age Group'].value_counts().sort_values(ascending=False)"
      ],
      "execution_count": null,
      "outputs": [
        {
          "output_type": "execute_result",
          "data": {
            "text/plain": [
              "50-59             2354\n",
              "20-29             2135\n",
              "30-39             2101\n",
              "40-49             2095\n",
              "60-69             1598\n",
              "80-89             1531\n",
              "90+               1098\n",
              "70-79             1052\n",
              "19 and younger     915\n",
              "Name: Age Group, dtype: int64"
            ]
          },
          "metadata": {
            "tags": []
          },
          "execution_count": 137
        }
      ]
    },
    {
      "cell_type": "code",
      "metadata": {
        "colab": {
          "base_uri": "https://localhost:8080/"
        },
        "id": "RjJZoy6s7pyO",
        "outputId": "ef8a600d-b6aa-4bcc-b672-6ede3ca0d8de"
      },
      "source": [
        "df['Source of Infection'].value_counts().sort_values(ascending=False)"
      ],
      "execution_count": null,
      "outputs": [
        {
          "output_type": "execute_result",
          "data": {
            "text/plain": [
              "N/A - Outbreak associated    5578\n",
              "Close contact                4998\n",
              "Community                    1991\n",
              "Healthcare                    897\n",
              "Travel                        488\n",
              "Unknown/Missing               364\n",
              "Institutional                 301\n",
              "Pending                       294\n",
              "Name: Source of Infection, dtype: int64"
            ]
          },
          "metadata": {
            "tags": []
          },
          "execution_count": 138
        }
      ]
    },
    {
      "cell_type": "code",
      "metadata": {
        "colab": {
          "base_uri": "https://localhost:8080/"
        },
        "id": "FMQPefwg79lW",
        "outputId": "e85c0baf-da44-4b4e-d1f2-46ed296f1e45"
      },
      "source": [
        "df['Classification'].value_counts().sort_values(ascending=False)"
      ],
      "execution_count": null,
      "outputs": [
        {
          "output_type": "execute_result",
          "data": {
            "text/plain": [
              "CONFIRMED    13686\n",
              "PROBABLE      1225\n",
              "Name: Classification, dtype: int64"
            ]
          },
          "metadata": {
            "tags": []
          },
          "execution_count": 139
        }
      ]
    },
    {
      "cell_type": "code",
      "metadata": {
        "colab": {
          "base_uri": "https://localhost:8080/"
        },
        "id": "JRktJwjE8H4C",
        "outputId": "449df463-e349-4e1e-ac95-ecf263183361"
      },
      "source": [
        "df['Client Gender'].value_counts().sort_values(ascending=False)"
      ],
      "execution_count": null,
      "outputs": [
        {
          "output_type": "execute_result",
          "data": {
            "text/plain": [
              "FEMALE         7909\n",
              "MALE           6747\n",
              "UNKNOWN         242\n",
              "TRANSGENDER       7\n",
              "OTHER             6\n",
              "Name: Client Gender, dtype: int64"
            ]
          },
          "metadata": {
            "tags": []
          },
          "execution_count": 140
        }
      ]
    },
    {
      "cell_type": "code",
      "metadata": {
        "colab": {
          "base_uri": "https://localhost:8080/"
        },
        "id": "JtqPDd1v8SSq",
        "outputId": "77fe7dae-22d0-48c4-a28d-0b31d2c2c56d"
      },
      "source": [
        "df['Outcome'].value_counts().sort_values(ascending=False)"
      ],
      "execution_count": null,
      "outputs": [
        {
          "output_type": "execute_result",
          "data": {
            "text/plain": [
              "RESOLVED    13195\n",
              "FATAL        1121\n",
              "ACTIVE        595\n",
              "Name: Outcome, dtype: int64"
            ]
          },
          "metadata": {
            "tags": []
          },
          "execution_count": 141
        }
      ]
    },
    {
      "cell_type": "code",
      "metadata": {
        "colab": {
          "base_uri": "https://localhost:8080/",
          "height": 168
        },
        "id": "-iIpy4K_8ZJ9",
        "outputId": "e979badb-f7ec-4e99-c2ae-30fbc8c07ea9"
      },
      "source": [
        "df[df['_id']==44296]"
      ],
      "execution_count": null,
      "outputs": [
        {
          "output_type": "execute_result",
          "data": {
            "text/html": [
              "<div>\n",
              "<style scoped>\n",
              "    .dataframe tbody tr th:only-of-type {\n",
              "        vertical-align: middle;\n",
              "    }\n",
              "\n",
              "    .dataframe tbody tr th {\n",
              "        vertical-align: top;\n",
              "    }\n",
              "\n",
              "    .dataframe thead th {\n",
              "        text-align: right;\n",
              "    }\n",
              "</style>\n",
              "<table border=\"1\" class=\"dataframe\">\n",
              "  <thead>\n",
              "    <tr style=\"text-align: right;\">\n",
              "      <th></th>\n",
              "      <th>_id</th>\n",
              "      <th>Outbreak Associated</th>\n",
              "      <th>Age Group</th>\n",
              "      <th>Neighbourhood Name</th>\n",
              "      <th>FSA</th>\n",
              "      <th>Source of Infection</th>\n",
              "      <th>Classification</th>\n",
              "      <th>Episode Date</th>\n",
              "      <th>Reported Date</th>\n",
              "      <th>Client Gender</th>\n",
              "      <th>Outcome</th>\n",
              "      <th>Currently Hospitalized</th>\n",
              "      <th>Currently in ICU</th>\n",
              "      <th>Currently Intubated</th>\n",
              "      <th>Ever Hospitalized</th>\n",
              "      <th>Ever in ICU</th>\n",
              "      <th>Ever Intubated</th>\n",
              "      <th>Mean_temp_C</th>\n",
              "      <th>Population density per square kilometre</th>\n",
              "    </tr>\n",
              "  </thead>\n",
              "  <tbody>\n",
              "    <tr>\n",
              "      <th>2</th>\n",
              "      <td>44296</td>\n",
              "      <td>Sporadic</td>\n",
              "      <td>60-69</td>\n",
              "      <td>Malvern</td>\n",
              "      <td>M1B</td>\n",
              "      <td>Travel</td>\n",
              "      <td>CONFIRMED</td>\n",
              "      <td>2020-03-04</td>\n",
              "      <td>2020-03-08</td>\n",
              "      <td>FEMALE</td>\n",
              "      <td>RESOLVED</td>\n",
              "      <td>No</td>\n",
              "      <td>No</td>\n",
              "      <td>No</td>\n",
              "      <td>Yes</td>\n",
              "      <td>Yes</td>\n",
              "      <td>Yes</td>\n",
              "      <td>6.3</td>\n",
              "      <td>4948.0</td>\n",
              "    </tr>\n",
              "  </tbody>\n",
              "</table>\n",
              "</div>"
            ],
            "text/plain": [
              "     _id  ... Population density per square kilometre\n",
              "2  44296  ...                                  4948.0\n",
              "\n",
              "[1 rows x 19 columns]"
            ]
          },
          "metadata": {
            "tags": []
          },
          "execution_count": 142
        }
      ]
    },
    {
      "cell_type": "code",
      "metadata": {
        "id": "a-FK_rYT9eGD",
        "colab": {
          "base_uri": "https://localhost:8080/"
        },
        "outputId": "9e12e427-efd7-465a-cb13-eac40e3d5c05"
      },
      "source": [
        "df.groupby(['Reported Date','Outcome'])['Outcome'].count().head(20)"
      ],
      "execution_count": null,
      "outputs": [
        {
          "output_type": "execute_result",
          "data": {
            "text/plain": [
              "Reported Date  Outcome \n",
              "2020-01-23     RESOLVED     2\n",
              "2020-02-21     RESOLVED     1\n",
              "2020-02-25     RESOLVED     1\n",
              "2020-02-26     RESOLVED     1\n",
              "2020-02-27     RESOLVED     1\n",
              "2020-02-28     RESOLVED     1\n",
              "2020-02-29     RESOLVED     1\n",
              "2020-03-01     RESOLVED     2\n",
              "2020-03-02     RESOLVED     1\n",
              "2020-03-03     RESOLVED     1\n",
              "2020-03-04     RESOLVED     2\n",
              "2020-03-05     RESOLVED     2\n",
              "2020-03-06     RESOLVED     2\n",
              "2020-03-07     RESOLVED     3\n",
              "2020-03-08     FATAL        1\n",
              "               RESOLVED     3\n",
              "2020-03-09     RESOLVED     2\n",
              "2020-03-10     RESOLVED     6\n",
              "2020-03-11     RESOLVED    10\n",
              "2020-03-12     RESOLVED    24\n",
              "Name: Outcome, dtype: int64"
            ]
          },
          "metadata": {
            "tags": []
          },
          "execution_count": 143
        }
      ]
    },
    {
      "cell_type": "code",
      "metadata": {
        "id": "o0VpTvF2A8Tg"
      },
      "source": [
        ""
      ],
      "execution_count": null,
      "outputs": []
    },
    {
      "cell_type": "code",
      "metadata": {
        "id": "SGnwEo4SAD0S"
      },
      "source": [
        ""
      ],
      "execution_count": null,
      "outputs": []
    },
    {
      "cell_type": "markdown",
      "metadata": {
        "id": "9ohhkrTpAE9C"
      },
      "source": [
        ""
      ]
    },
    {
      "cell_type": "markdown",
      "metadata": {
        "id": "uu6hO0e4RoKF"
      },
      "source": [
        "### Understanding the data with Visualization"
      ]
    },
    {
      "cell_type": "code",
      "metadata": {
        "colab": {
          "base_uri": "https://localhost:8080/",
          "height": 525
        },
        "id": "k_CkGP0RRvMA",
        "outputId": "094b61b5-24e1-4624-8342-8554e59527d3"
      },
      "source": [
        "plt.figure(figsize=(15,7))\n",
        "sns.countplot(x=\"Source of Infection\", hue = 'Client Gender', data=df).set_title(\"COVID19 cases by source of infection and gender\")\n",
        "plt.xticks(rotation = 15)"
      ],
      "execution_count": null,
      "outputs": [
        {
          "output_type": "execute_result",
          "data": {
            "text/plain": [
              "(array([0, 1, 2, 3, 4, 5, 6, 7]), <a list of 8 Text major ticklabel objects>)"
            ]
          },
          "metadata": {
            "tags": []
          },
          "execution_count": 144
        },
        {
          "output_type": "display_data",
          "data": {
            "image/png": "[encoded data removed]",
            "text/plain": [
              "<Figure size 1080x504 with 1 Axes>"
            ]
          },
          "metadata": {
            "tags": [],
            "needs_background": "light"
          }
        }
      ]
    },
    {
      "cell_type": "code",
      "metadata": {
        "colab": {
          "base_uri": "https://localhost:8080/",
          "height": 526
        },
        "id": "u1KPN7NJRyl2",
        "outputId": "95fce787-56f3-4063-c972-7031cdf7560b"
      },
      "source": [
        "plt.figure(figsize=(15,7))\n",
        "sns.countplot(x=\"Age Group\", \n",
        "              order = ['19 and younger', '20-29', '30-39', '40-49', '50-59', '60-69', '70-79', '80-89', '90+'],\n",
        "                       data=df).set_title(\"COVID19 cases by Age Group\")\n",
        "plt.xticks(rotation = 15)"
      ],
      "execution_count": null,
      "outputs": [
        {
          "output_type": "execute_result",
          "data": {
            "text/plain": [
              "(array([0, 1, 2, 3, 4, 5, 6, 7, 8]),\n",
              " <a list of 9 Text major ticklabel objects>)"
            ]
          },
          "metadata": {
            "tags": []
          },
          "execution_count": 145
        },
        {
          "output_type": "display_data",
          "data": {
            "image/png": "[encoded data removed]",
            "text/plain": [
              "<Figure size 1080x504 with 1 Axes>"
            ]
          },
          "metadata": {
            "tags": [],
            "needs_background": "light"
          }
        }
      ]
    },
    {
      "cell_type": "markdown",
      "metadata": {
        "id": "PeHMXc6JU05A"
      },
      "source": [
        "#### Does neighbourhood impact the the number of COVID19 cases?"
      ]
    },
    {
      "cell_type": "markdown",
      "metadata": {
        "id": "PRD3T2kYU9cP"
      },
      "source": [
        "We would like to see if the location would affect the number of people who caught COVID19 and to see their outcome, so we've gathered the population density data from the City of Toronto (https://open.toronto.ca/dataset/neighbourhood-profiles/).\n"
      ]
    },
    {
      "cell_type": "code",
      "metadata": {
        "colab": {
          "base_uri": "https://localhost:8080/",
          "height": 338
        },
        "id": "gLMU6NVUUZUr",
        "outputId": "8fa8d4d1-6e3b-4eb9-f837-0ca2687e4aa2"
      },
      "source": [
        "sns.scatterplot(data=df, x=\"Neighbourhood Name\", y=\"Population density per square kilometre\") \n",
        "#seeing the spread of COVID cases within 140 neighbourhoods in Toronto"
      ],
      "execution_count": null,
      "outputs": [
        {
          "output_type": "execute_result",
          "data": {
            "text/plain": [
              "<matplotlib.axes._subplots.AxesSubplot at 0x7f6938b4a630>"
            ]
          },
          "metadata": {
            "tags": []
          },
          "execution_count": 146
        },
        {
          "output_type": "display_data",
          "data": {
            "image/png": "[encoded data removed]",
            "text/plain": [
              "<Figure size 432x288 with 1 Axes>"
            ]
          },
          "metadata": {
            "tags": [],
            "needs_background": "light"
          }
        }
      ]
    },
    {
      "cell_type": "code",
      "metadata": {
        "colab": {
          "base_uri": "https://localhost:8080/",
          "height": 390
        },
        "id": "l4G0fxlYUdqh",
        "outputId": "6be1ba76-254f-4e88-88e1-e0f84af7305b"
      },
      "source": [
        "pivot = df.pivot_table(index=['Neighbourhood Name'], values=['Population density per square kilometre'], aggfunc='mean')\n",
        "pop_large = pivot.nlargest(5,'Population density per square kilometre') #gets 5 largest population densed neighbourhoods \n",
        "pop_small = pivot.nsmallest(5,'Population density per square kilometre')#gets 5 smallest population densed neighbourhoods \n",
        "pop_compare = pd.concat([pop_large, pop_small], keys='Neighbourhood Name')\n",
        "pop_compare['Sort'] = ['Top 5', 'Top 5', 'Top 5', 'Top 5', 'Top 5', 'Bottom 5', 'Bottom 5', 'Bottom 5', 'Bottom 5', 'Bottom 5']\n",
        "pop_compare"
      ],
      "execution_count": null,
      "outputs": [
        {
          "output_type": "execute_result",
          "data": {
            "text/html": [
              "<div>\n",
              "<style scoped>\n",
              "    .dataframe tbody tr th:only-of-type {\n",
              "        vertical-align: middle;\n",
              "    }\n",
              "\n",
              "    .dataframe tbody tr th {\n",
              "        vertical-align: top;\n",
              "    }\n",
              "\n",
              "    .dataframe thead th {\n",
              "        text-align: right;\n",
              "    }\n",
              "</style>\n",
              "<table border=\"1\" class=\"dataframe\">\n",
              "  <thead>\n",
              "    <tr style=\"text-align: right;\">\n",
              "      <th></th>\n",
              "      <th></th>\n",
              "      <th>Population density per square kilometre</th>\n",
              "      <th>Sort</th>\n",
              "    </tr>\n",
              "    <tr>\n",
              "      <th></th>\n",
              "      <th>Neighbourhood Name</th>\n",
              "      <th></th>\n",
              "      <th></th>\n",
              "    </tr>\n",
              "  </thead>\n",
              "  <tbody>\n",
              "    <tr>\n",
              "      <th rowspan=\"5\" valign=\"top\">N</th>\n",
              "      <th>North St. James Town</th>\n",
              "      <td>44321.0</td>\n",
              "      <td>Top 5</td>\n",
              "    </tr>\n",
              "    <tr>\n",
              "      <th>Church-Yonge Corridor</th>\n",
              "      <td>23044.0</td>\n",
              "      <td>Top 5</td>\n",
              "    </tr>\n",
              "    <tr>\n",
              "      <th>Mount Pleasant West</th>\n",
              "      <td>21969.0</td>\n",
              "      <td>Top 5</td>\n",
              "    </tr>\n",
              "    <tr>\n",
              "      <th>Regent Park</th>\n",
              "      <td>16880.0</td>\n",
              "      <td>Top 5</td>\n",
              "    </tr>\n",
              "    <tr>\n",
              "      <th>Taylor-Massey</th>\n",
              "      <td>15528.0</td>\n",
              "      <td>Top 5</td>\n",
              "    </tr>\n",
              "    <tr>\n",
              "      <th rowspan=\"5\" valign=\"top\">e</th>\n",
              "      <th>Bridle Path-Sunnybrook-York Mills</th>\n",
              "      <td>1040.0</td>\n",
              "      <td>Bottom 5</td>\n",
              "    </tr>\n",
              "    <tr>\n",
              "      <th>West Humber-Clairville</th>\n",
              "      <td>1117.0</td>\n",
              "      <td>Bottom 5</td>\n",
              "    </tr>\n",
              "    <tr>\n",
              "      <th>Rouge</th>\n",
              "      <td>1260.0</td>\n",
              "      <td>Bottom 5</td>\n",
              "    </tr>\n",
              "    <tr>\n",
              "      <th>Humber Summit</th>\n",
              "      <td>1570.0</td>\n",
              "      <td>Bottom 5</td>\n",
              "    </tr>\n",
              "    <tr>\n",
              "      <th>York University Heights</th>\n",
              "      <td>2086.0</td>\n",
              "      <td>Bottom 5</td>\n",
              "    </tr>\n",
              "  </tbody>\n",
              "</table>\n",
              "</div>"
            ],
            "text/plain": [
              "                                     Population density per square kilometre      Sort\n",
              "  Neighbourhood Name                                                                  \n",
              "N North St. James Town                                               44321.0     Top 5\n",
              "  Church-Yonge Corridor                                              23044.0     Top 5\n",
              "  Mount Pleasant West                                                21969.0     Top 5\n",
              "  Regent Park                                                        16880.0     Top 5\n",
              "  Taylor-Massey                                                      15528.0     Top 5\n",
              "e Bridle Path-Sunnybrook-York Mills                                   1040.0  Bottom 5\n",
              "  West Humber-Clairville                                              1117.0  Bottom 5\n",
              "  Rouge                                                               1260.0  Bottom 5\n",
              "  Humber Summit                                                       1570.0  Bottom 5\n",
              "  York University Heights                                             2086.0  Bottom 5"
            ]
          },
          "metadata": {
            "tags": []
          },
          "execution_count": 147
        }
      ]
    },
    {
      "cell_type": "code",
      "metadata": {
        "colab": {
          "base_uri": "https://localhost:8080/",
          "height": 631
        },
        "id": "09duvjo5Ugu8",
        "outputId": "39badac4-1595-4fad-a5ac-c00b3579f749"
      },
      "source": [
        "pop_compare = pd.merge(pop_compare, df, how = 'left', on = [\"Neighbourhood Name\"])\n",
        "pop_compare_pivot = pop_compare.pivot_table(index=['Neighbourhood Name'], aggfunc='count')\n",
        "pop_compare_pivot"
      ],
      "execution_count": null,
      "outputs": [
        {
          "output_type": "execute_result",
          "data": {
            "text/html": [
              "<div>\n",
              "<style scoped>\n",
              "    .dataframe tbody tr th:only-of-type {\n",
              "        vertical-align: middle;\n",
              "    }\n",
              "\n",
              "    .dataframe tbody tr th {\n",
              "        vertical-align: top;\n",
              "    }\n",
              "\n",
              "    .dataframe thead th {\n",
              "        text-align: right;\n",
              "    }\n",
              "</style>\n",
              "<table border=\"1\" class=\"dataframe\">\n",
              "  <thead>\n",
              "    <tr style=\"text-align: right;\">\n",
              "      <th></th>\n",
              "      <th>Age Group</th>\n",
              "      <th>Classification</th>\n",
              "      <th>Client Gender</th>\n",
              "      <th>Currently Hospitalized</th>\n",
              "      <th>Currently Intubated</th>\n",
              "      <th>Currently in ICU</th>\n",
              "      <th>Episode Date</th>\n",
              "      <th>Ever Hospitalized</th>\n",
              "      <th>Ever Intubated</th>\n",
              "      <th>Ever in ICU</th>\n",
              "      <th>FSA</th>\n",
              "      <th>Mean_temp_C</th>\n",
              "      <th>Outbreak Associated</th>\n",
              "      <th>Outcome</th>\n",
              "      <th>Population density per square kilometre_x</th>\n",
              "      <th>Population density per square kilometre_y</th>\n",
              "      <th>Reported Date</th>\n",
              "      <th>Sort</th>\n",
              "      <th>Source of Infection</th>\n",
              "      <th>_id</th>\n",
              "    </tr>\n",
              "    <tr>\n",
              "      <th>Neighbourhood Name</th>\n",
              "      <th></th>\n",
              "      <th></th>\n",
              "      <th></th>\n",
              "      <th></th>\n",
              "      <th></th>\n",
              "      <th></th>\n",
              "      <th></th>\n",
              "      <th></th>\n",
              "      <th></th>\n",
              "      <th></th>\n",
              "      <th></th>\n",
              "      <th></th>\n",
              "      <th></th>\n",
              "      <th></th>\n",
              "      <th></th>\n",
              "      <th></th>\n",
              "      <th></th>\n",
              "      <th></th>\n",
              "      <th></th>\n",
              "      <th></th>\n",
              "    </tr>\n",
              "  </thead>\n",
              "  <tbody>\n",
              "    <tr>\n",
              "      <th>Bridle Path-Sunnybrook-York Mills</th>\n",
              "      <td>22</td>\n",
              "      <td>22</td>\n",
              "      <td>22</td>\n",
              "      <td>22</td>\n",
              "      <td>22</td>\n",
              "      <td>22</td>\n",
              "      <td>22</td>\n",
              "      <td>22</td>\n",
              "      <td>22</td>\n",
              "      <td>22</td>\n",
              "      <td>22</td>\n",
              "      <td>22</td>\n",
              "      <td>22</td>\n",
              "      <td>22</td>\n",
              "      <td>22</td>\n",
              "      <td>22</td>\n",
              "      <td>22</td>\n",
              "      <td>22</td>\n",
              "      <td>22</td>\n",
              "      <td>22</td>\n",
              "    </tr>\n",
              "    <tr>\n",
              "      <th>Church-Yonge Corridor</th>\n",
              "      <td>89</td>\n",
              "      <td>89</td>\n",
              "      <td>89</td>\n",
              "      <td>89</td>\n",
              "      <td>89</td>\n",
              "      <td>89</td>\n",
              "      <td>89</td>\n",
              "      <td>89</td>\n",
              "      <td>89</td>\n",
              "      <td>89</td>\n",
              "      <td>89</td>\n",
              "      <td>89</td>\n",
              "      <td>89</td>\n",
              "      <td>89</td>\n",
              "      <td>89</td>\n",
              "      <td>89</td>\n",
              "      <td>89</td>\n",
              "      <td>89</td>\n",
              "      <td>89</td>\n",
              "      <td>89</td>\n",
              "    </tr>\n",
              "    <tr>\n",
              "      <th>Humber Summit</th>\n",
              "      <td>137</td>\n",
              "      <td>137</td>\n",
              "      <td>137</td>\n",
              "      <td>137</td>\n",
              "      <td>137</td>\n",
              "      <td>137</td>\n",
              "      <td>137</td>\n",
              "      <td>137</td>\n",
              "      <td>137</td>\n",
              "      <td>137</td>\n",
              "      <td>137</td>\n",
              "      <td>137</td>\n",
              "      <td>137</td>\n",
              "      <td>137</td>\n",
              "      <td>137</td>\n",
              "      <td>137</td>\n",
              "      <td>137</td>\n",
              "      <td>137</td>\n",
              "      <td>137</td>\n",
              "      <td>137</td>\n",
              "    </tr>\n",
              "    <tr>\n",
              "      <th>Mount Pleasant West</th>\n",
              "      <td>160</td>\n",
              "      <td>160</td>\n",
              "      <td>160</td>\n",
              "      <td>160</td>\n",
              "      <td>160</td>\n",
              "      <td>160</td>\n",
              "      <td>160</td>\n",
              "      <td>160</td>\n",
              "      <td>160</td>\n",
              "      <td>160</td>\n",
              "      <td>160</td>\n",
              "      <td>160</td>\n",
              "      <td>160</td>\n",
              "      <td>160</td>\n",
              "      <td>160</td>\n",
              "      <td>160</td>\n",
              "      <td>160</td>\n",
              "      <td>160</td>\n",
              "      <td>160</td>\n",
              "      <td>160</td>\n",
              "    </tr>\n",
              "    <tr>\n",
              "      <th>North St. James Town</th>\n",
              "      <td>183</td>\n",
              "      <td>183</td>\n",
              "      <td>183</td>\n",
              "      <td>183</td>\n",
              "      <td>183</td>\n",
              "      <td>183</td>\n",
              "      <td>183</td>\n",
              "      <td>183</td>\n",
              "      <td>183</td>\n",
              "      <td>183</td>\n",
              "      <td>183</td>\n",
              "      <td>183</td>\n",
              "      <td>183</td>\n",
              "      <td>183</td>\n",
              "      <td>183</td>\n",
              "      <td>183</td>\n",
              "      <td>183</td>\n",
              "      <td>183</td>\n",
              "      <td>183</td>\n",
              "      <td>183</td>\n",
              "    </tr>\n",
              "    <tr>\n",
              "      <th>Regent Park</th>\n",
              "      <td>31</td>\n",
              "      <td>31</td>\n",
              "      <td>31</td>\n",
              "      <td>31</td>\n",
              "      <td>31</td>\n",
              "      <td>31</td>\n",
              "      <td>31</td>\n",
              "      <td>31</td>\n",
              "      <td>31</td>\n",
              "      <td>31</td>\n",
              "      <td>31</td>\n",
              "      <td>31</td>\n",
              "      <td>31</td>\n",
              "      <td>31</td>\n",
              "      <td>31</td>\n",
              "      <td>31</td>\n",
              "      <td>31</td>\n",
              "      <td>31</td>\n",
              "      <td>31</td>\n",
              "      <td>31</td>\n",
              "    </tr>\n",
              "    <tr>\n",
              "      <th>Rouge</th>\n",
              "      <td>303</td>\n",
              "      <td>303</td>\n",
              "      <td>303</td>\n",
              "      <td>303</td>\n",
              "      <td>303</td>\n",
              "      <td>303</td>\n",
              "      <td>303</td>\n",
              "      <td>303</td>\n",
              "      <td>303</td>\n",
              "      <td>303</td>\n",
              "      <td>303</td>\n",
              "      <td>303</td>\n",
              "      <td>303</td>\n",
              "      <td>303</td>\n",
              "      <td>303</td>\n",
              "      <td>303</td>\n",
              "      <td>303</td>\n",
              "      <td>303</td>\n",
              "      <td>303</td>\n",
              "      <td>303</td>\n",
              "    </tr>\n",
              "    <tr>\n",
              "      <th>Taylor-Massey</th>\n",
              "      <td>82</td>\n",
              "      <td>82</td>\n",
              "      <td>82</td>\n",
              "      <td>82</td>\n",
              "      <td>82</td>\n",
              "      <td>82</td>\n",
              "      <td>82</td>\n",
              "      <td>82</td>\n",
              "      <td>82</td>\n",
              "      <td>82</td>\n",
              "      <td>82</td>\n",
              "      <td>82</td>\n",
              "      <td>82</td>\n",
              "      <td>82</td>\n",
              "      <td>82</td>\n",
              "      <td>82</td>\n",
              "      <td>82</td>\n",
              "      <td>82</td>\n",
              "      <td>82</td>\n",
              "      <td>82</td>\n",
              "    </tr>\n",
              "    <tr>\n",
              "      <th>West Humber-Clairville</th>\n",
              "      <td>471</td>\n",
              "      <td>471</td>\n",
              "      <td>471</td>\n",
              "      <td>471</td>\n",
              "      <td>471</td>\n",
              "      <td>471</td>\n",
              "      <td>471</td>\n",
              "      <td>471</td>\n",
              "      <td>471</td>\n",
              "      <td>471</td>\n",
              "      <td>471</td>\n",
              "      <td>471</td>\n",
              "      <td>471</td>\n",
              "      <td>471</td>\n",
              "      <td>471</td>\n",
              "      <td>471</td>\n",
              "      <td>471</td>\n",
              "      <td>471</td>\n",
              "      <td>471</td>\n",
              "      <td>471</td>\n",
              "    </tr>\n",
              "    <tr>\n",
              "      <th>York University Heights</th>\n",
              "      <td>419</td>\n",
              "      <td>421</td>\n",
              "      <td>421</td>\n",
              "      <td>421</td>\n",
              "      <td>421</td>\n",
              "      <td>421</td>\n",
              "      <td>421</td>\n",
              "      <td>421</td>\n",
              "      <td>421</td>\n",
              "      <td>421</td>\n",
              "      <td>421</td>\n",
              "      <td>421</td>\n",
              "      <td>421</td>\n",
              "      <td>421</td>\n",
              "      <td>421</td>\n",
              "      <td>421</td>\n",
              "      <td>421</td>\n",
              "      <td>421</td>\n",
              "      <td>421</td>\n",
              "      <td>421</td>\n",
              "    </tr>\n",
              "  </tbody>\n",
              "</table>\n",
              "</div>"
            ],
            "text/plain": [
              "                                   Age Group  ...  _id\n",
              "Neighbourhood Name                            ...     \n",
              "Bridle Path-Sunnybrook-York Mills         22  ...   22\n",
              "Church-Yonge Corridor                     89  ...   89\n",
              "Humber Summit                            137  ...  137\n",
              "Mount Pleasant West                      160  ...  160\n",
              "North St. James Town                     183  ...  183\n",
              "Regent Park                               31  ...   31\n",
              "Rouge                                    303  ...  303\n",
              "Taylor-Massey                             82  ...   82\n",
              "West Humber-Clairville                   471  ...  471\n",
              "York University Heights                  419  ...  421\n",
              "\n",
              "[10 rows x 20 columns]"
            ]
          },
          "metadata": {
            "tags": []
          },
          "execution_count": 148
        }
      ]
    },
    {
      "cell_type": "code",
      "metadata": {
        "colab": {
          "base_uri": "https://localhost:8080/",
          "height": 536
        },
        "id": "iMZq9OAUVZLr",
        "outputId": "756a44a5-5c6f-49b5-d4e1-9ddabdbc7ce9"
      },
      "source": [
        "plt.figure(figsize=(15,7))\n",
        "sns.countplot(x=\"Neighbourhood Name\", \n",
        "              order = ['North St. James Town', 'Church-Yonge Corridor', 'Mount Pleasant West', 'Regent Park', 'Taylor-Massey', 'Bridle Path-Sunnybrook-York Mills', 'West Humber-Clairville', 'Rouge', 'Humber Summit', 'York University Heights'],\n",
        "              hue = 'Sort',\n",
        "              data=pop_compare).set_title(\"COVID19 cases by Largest and Smallest Population density\")\n",
        "plt.xticks(rotation = 10)"
      ],
      "execution_count": null,
      "outputs": [
        {
          "output_type": "execute_result",
          "data": {
            "text/plain": [
              "(array([0, 1, 2, 3, 4, 5, 6, 7, 8, 9]),\n",
              " <a list of 10 Text major ticklabel objects>)"
            ]
          },
          "metadata": {
            "tags": []
          },
          "execution_count": 149
        },
        {
          "output_type": "display_data",
          "data": {
            "image/png": "[encoded data removed]",
            "text/plain": [
              "<Figure size 1080x504 with 1 Axes>"
            ]
          },
          "metadata": {
            "tags": [],
            "needs_background": "light"
          }
        }
      ]
    },
    {
      "cell_type": "code",
      "metadata": {
        "colab": {
          "base_uri": "https://localhost:8080/",
          "height": 306
        },
        "id": "cv0nhl-HVi2W",
        "outputId": "41fc9f38-2e49-4865-c5a8-0356a90f7673"
      },
      "source": [
        "pivot_1 = df.pivot_table(index=['Neighbourhood Name'],values=['Age Group'], aggfunc='count')\n",
        "just_pop = df[['Neighbourhood Name', 'Population density per square kilometre']]\n",
        "df_pop_count = pd.merge(pivot_1,just_pop, how = 'left', on = 'Neighbourhood Name')\n",
        "df_pop_count\n",
        "sns.scatterplot(data = df_pop_count, x='Population density per square kilometre', y= 'Age Group')\n",
        "plt.ylabel('Count of COVID19 cases')"
      ],
      "execution_count": null,
      "outputs": [
        {
          "output_type": "execute_result",
          "data": {
            "text/plain": [
              "Text(0, 0.5, 'Count of COVID19 cases')"
            ]
          },
          "metadata": {
            "tags": []
          },
          "execution_count": 150
        },
        {
          "output_type": "display_data",
          "data": {
            "image/png": "[encoded data removed]",
            "text/plain": [
              "<Figure size 432x288 with 1 Axes>"
            ]
          },
          "metadata": {
            "tags": [],
            "needs_background": "light"
          }
        }
      ]
    },
    {
      "cell_type": "markdown",
      "metadata": {
        "id": "Rq0v9iiUZLwR"
      },
      "source": [
        "Shown above, there seems to be no correlation as to the Population density to the number of COVID 19 cases"
      ]
    },
    {
      "cell_type": "markdown",
      "metadata": {
        "id": "yHL0WZPOZk80"
      },
      "source": [
        "### Understanding the Outcome (Resolved, Fatal, Active)"
      ]
    },
    {
      "cell_type": "code",
      "metadata": {
        "colab": {
          "base_uri": "https://localhost:8080/",
          "height": 501
        },
        "id": "Z-B2bD62R4-9",
        "outputId": "72036c59-ba05-4bd8-d127-4592a4241398"
      },
      "source": [
        "plt.figure(figsize=(15,7))\n",
        "sns.countplot(x=\"Outcome\", data=df).set_title(\"COVID19 cases by Outcome\")\n",
        "plt.xticks(rotation = 15)"
      ],
      "execution_count": null,
      "outputs": [
        {
          "output_type": "execute_result",
          "data": {
            "text/plain": [
              "(array([0, 1, 2]), <a list of 3 Text major ticklabel objects>)"
            ]
          },
          "metadata": {
            "tags": []
          },
          "execution_count": 151
        },
        {
          "output_type": "display_data",
          "data": {
            "image/png": "[encoded data removed]",
            "text/plain": [
              "<Figure size 1080x504 with 1 Axes>"
            ]
          },
          "metadata": {
            "tags": [],
            "needs_background": "light"
          }
        }
      ]
    },
    {
      "cell_type": "markdown",
      "metadata": {
        "id": "ZcFZnZqvR_vJ"
      },
      "source": [
        "Shown above, there are very few \"Active\" cases. Our goal is to see wether those active patients will be resolved or not. First, let's see the attributes on the people who had a fatal outcome due to COVID19."
      ]
    },
    {
      "cell_type": "code",
      "metadata": {
        "id": "4Ndu3Yp_SE5b",
        "colab": {
          "base_uri": "https://localhost:8080/"
        },
        "outputId": "0bc87edc-9d89-439e-cd18-468a85fcb682"
      },
      "source": [
        "fatal = df[df['Outcome'] == 'FATAL']\n",
        "fatal['Age Group'].value_counts()"
      ],
      "execution_count": null,
      "outputs": [
        {
          "output_type": "execute_result",
          "data": {
            "text/plain": [
              "80-89             398\n",
              "90+               366\n",
              "70-79             208\n",
              "60-69             103\n",
              "50-59              34\n",
              "40-49               9\n",
              "20-29               1\n",
              "19 and younger      1\n",
              "30-39               1\n",
              "Name: Age Group, dtype: int64"
            ]
          },
          "metadata": {
            "tags": []
          },
          "execution_count": 152
        }
      ]
    },
    {
      "cell_type": "markdown",
      "metadata": {
        "id": "LRrC5qTcZ40u"
      },
      "source": [
        "COVID19 is most fatal to people ages 80 and above"
      ]
    },
    {
      "cell_type": "code",
      "metadata": {
        "colab": {
          "base_uri": "https://localhost:8080/"
        },
        "id": "RnNsD9cGaZJu",
        "outputId": "2301256b-515d-4be4-9a0d-20e08ff4d108"
      },
      "source": [
        "fatal['Client Gender'].value_counts()"
      ],
      "execution_count": null,
      "outputs": [
        {
          "output_type": "execute_result",
          "data": {
            "text/plain": [
              "FEMALE         576\n",
              "MALE           511\n",
              "UNKNOWN         33\n",
              "TRANSGENDER      1\n",
              "Name: Client Gender, dtype: int64"
            ]
          },
          "metadata": {
            "tags": []
          },
          "execution_count": 153
        }
      ]
    },
    {
      "cell_type": "markdown",
      "metadata": {
        "id": "lxHHJQV8aq8-"
      },
      "source": [
        "## Creating the model"
      ]
    },
    {
      "cell_type": "code",
      "metadata": {
        "colab": {
          "base_uri": "https://localhost:8080/"
        },
        "id": "sKrClIOgdAhQ",
        "outputId": "b558f22f-ca88-4f0a-898b-004e1703399a"
      },
      "source": [
        "df['Outcome'].unique()"
      ],
      "execution_count": null,
      "outputs": [
        {
          "output_type": "execute_result",
          "data": {
            "text/plain": [
              "array(['RESOLVED', 'FATAL', 'ACTIVE'], dtype=object)"
            ]
          },
          "metadata": {
            "tags": []
          },
          "execution_count": 154
        }
      ]
    },
    {
      "cell_type": "code",
      "metadata": {
        "colab": {
          "base_uri": "https://localhost:8080/",
          "height": 377
        },
        "id": "I8oj48W_dE0U",
        "outputId": "a80481dc-18ad-4aaa-80b0-e2df3f44bd25"
      },
      "source": [
        "df=df.fillna(\"\")\n",
        "df.isnull().sum()\n",
        "\n",
        "Res = df[df['Outcome'] == 'RESOLVED']\n",
        "Fatal = df[df['Outcome'] == 'FATAL']\n",
        "Active = df[df['Outcome'] == 'ACTIVE']\n",
        "df_test = pd.concat([Res,Fatal]) ## Using RESOLVED and FATA data as our test data\n",
        "test_outcome = {'RESOLVED': 1, 'FATAL': 0}\n",
        "df_test['Outcome'] = df_test['Outcome'].map(test_outcome)\n",
        "df_test.head()\n"
      ],
      "execution_count": null,
      "outputs": [
        {
          "output_type": "execute_result",
          "data": {
            "text/html": [
              "<div>\n",
              "<style scoped>\n",
              "    .dataframe tbody tr th:only-of-type {\n",
              "        vertical-align: middle;\n",
              "    }\n",
              "\n",
              "    .dataframe tbody tr th {\n",
              "        vertical-align: top;\n",
              "    }\n",
              "\n",
              "    .dataframe thead th {\n",
              "        text-align: right;\n",
              "    }\n",
              "</style>\n",
              "<table border=\"1\" class=\"dataframe\">\n",
              "  <thead>\n",
              "    <tr style=\"text-align: right;\">\n",
              "      <th></th>\n",
              "      <th>_id</th>\n",
              "      <th>Outbreak Associated</th>\n",
              "      <th>Age Group</th>\n",
              "      <th>Neighbourhood Name</th>\n",
              "      <th>FSA</th>\n",
              "      <th>Source of Infection</th>\n",
              "      <th>Classification</th>\n",
              "      <th>Episode Date</th>\n",
              "      <th>Reported Date</th>\n",
              "      <th>Client Gender</th>\n",
              "      <th>Outcome</th>\n",
              "      <th>Currently Hospitalized</th>\n",
              "      <th>Currently in ICU</th>\n",
              "      <th>Currently Intubated</th>\n",
              "      <th>Ever Hospitalized</th>\n",
              "      <th>Ever in ICU</th>\n",
              "      <th>Ever Intubated</th>\n",
              "      <th>Mean_temp_C</th>\n",
              "      <th>Population density per square kilometre</th>\n",
              "    </tr>\n",
              "  </thead>\n",
              "  <tbody>\n",
              "    <tr>\n",
              "      <th>0</th>\n",
              "      <td>44294</td>\n",
              "      <td>Sporadic</td>\n",
              "      <td>50-59</td>\n",
              "      <td>Malvern</td>\n",
              "      <td>M1B</td>\n",
              "      <td>Institutional</td>\n",
              "      <td>CONFIRMED</td>\n",
              "      <td>2020-03-25</td>\n",
              "      <td>2020-03-27</td>\n",
              "      <td>MALE</td>\n",
              "      <td>1</td>\n",
              "      <td>No</td>\n",
              "      <td>No</td>\n",
              "      <td>No</td>\n",
              "      <td>No</td>\n",
              "      <td>No</td>\n",
              "      <td>No</td>\n",
              "      <td>5.2</td>\n",
              "      <td>4948</td>\n",
              "    </tr>\n",
              "    <tr>\n",
              "      <th>1</th>\n",
              "      <td>44295</td>\n",
              "      <td>Sporadic</td>\n",
              "      <td>20-29</td>\n",
              "      <td>Malvern</td>\n",
              "      <td>M1B</td>\n",
              "      <td>Community</td>\n",
              "      <td>CONFIRMED</td>\n",
              "      <td>2020-03-20</td>\n",
              "      <td>2020-03-28</td>\n",
              "      <td>MALE</td>\n",
              "      <td>1</td>\n",
              "      <td>No</td>\n",
              "      <td>No</td>\n",
              "      <td>No</td>\n",
              "      <td>Yes</td>\n",
              "      <td>No</td>\n",
              "      <td>No</td>\n",
              "      <td>5.3</td>\n",
              "      <td>4948</td>\n",
              "    </tr>\n",
              "    <tr>\n",
              "      <th>2</th>\n",
              "      <td>44296</td>\n",
              "      <td>Sporadic</td>\n",
              "      <td>60-69</td>\n",
              "      <td>Malvern</td>\n",
              "      <td>M1B</td>\n",
              "      <td>Travel</td>\n",
              "      <td>CONFIRMED</td>\n",
              "      <td>2020-03-04</td>\n",
              "      <td>2020-03-08</td>\n",
              "      <td>FEMALE</td>\n",
              "      <td>1</td>\n",
              "      <td>No</td>\n",
              "      <td>No</td>\n",
              "      <td>No</td>\n",
              "      <td>Yes</td>\n",
              "      <td>Yes</td>\n",
              "      <td>Yes</td>\n",
              "      <td>6.3</td>\n",
              "      <td>4948</td>\n",
              "    </tr>\n",
              "    <tr>\n",
              "      <th>3</th>\n",
              "      <td>44297</td>\n",
              "      <td>Outbreak Associated</td>\n",
              "      <td>50-59</td>\n",
              "      <td>Rouge</td>\n",
              "      <td>M1B</td>\n",
              "      <td>N/A - Outbreak associated</td>\n",
              "      <td>CONFIRMED</td>\n",
              "      <td>2020-05-02</td>\n",
              "      <td>2020-05-04</td>\n",
              "      <td>FEMALE</td>\n",
              "      <td>1</td>\n",
              "      <td>No</td>\n",
              "      <td>No</td>\n",
              "      <td>No</td>\n",
              "      <td>No</td>\n",
              "      <td>No</td>\n",
              "      <td>No</td>\n",
              "      <td>6.6</td>\n",
              "      <td>1260</td>\n",
              "    </tr>\n",
              "    <tr>\n",
              "      <th>4</th>\n",
              "      <td>44298</td>\n",
              "      <td>Sporadic</td>\n",
              "      <td>30-39</td>\n",
              "      <td>Rouge</td>\n",
              "      <td>M1B</td>\n",
              "      <td>Close contact</td>\n",
              "      <td>CONFIRMED</td>\n",
              "      <td>2020-05-31</td>\n",
              "      <td>2020-06-06</td>\n",
              "      <td>FEMALE</td>\n",
              "      <td>1</td>\n",
              "      <td>No</td>\n",
              "      <td>No</td>\n",
              "      <td>No</td>\n",
              "      <td>No</td>\n",
              "      <td>No</td>\n",
              "      <td>No</td>\n",
              "      <td>20.0</td>\n",
              "      <td>1260</td>\n",
              "    </tr>\n",
              "  </tbody>\n",
              "</table>\n",
              "</div>"
            ],
            "text/plain": [
              "     _id  ... Population density per square kilometre\n",
              "0  44294  ...                                    4948\n",
              "1  44295  ...                                    4948\n",
              "2  44296  ...                                    4948\n",
              "3  44297  ...                                    1260\n",
              "4  44298  ...                                    1260\n",
              "\n",
              "[5 rows x 19 columns]"
            ]
          },
          "metadata": {
            "tags": []
          },
          "execution_count": 155
        }
      ]
    },
    {
      "cell_type": "markdown",
      "metadata": {
        "id": "KkhgtWoMc17u"
      },
      "source": [
        "### Using Random Forest Classifier"
      ]
    },
    {
      "cell_type": "code",
      "metadata": {
        "id": "xGJ2o1jpc8z7"
      },
      "source": [
        "from sklearn.metrics import accuracy_score\n",
        "from sklearn.model_selection import train_test_split\n",
        "from sklearn.model_selection import cross_val_score, GridSearchCV\n",
        "from sklearn.linear_model import LogisticRegression\n",
        "from sklearn.tree import DecisionTreeClassifier\n",
        "from sklearn.ensemble import RandomForestClassifier\n",
        "\n"
      ],
      "execution_count": null,
      "outputs": []
    },
    {
      "cell_type": "code",
      "metadata": {
        "id": "2xzv_yXEdO_e"
      },
      "source": [
        "target = 'Outcome'\n",
        "features = df_test[['Outbreak Associated', 'Age Group', 'Neighbourhood Name', 'FSA',\n",
        "       'Source of Infection', 'Classification', 'Client Gender', 'Currently Hospitalized',\n",
        "       'Currently in ICU', 'Currently Intubated', 'Ever Hospitalized',\n",
        "       'Ever in ICU', 'Ever Intubated']]\n"
      ],
      "execution_count": null,
      "outputs": []
    },
    {
      "cell_type": "code",
      "metadata": {
        "id": "BVSGGM5odIce"
      },
      "source": [
        "y = df_test.pop('Outcome')\n",
        "X = features.astype(str)"
      ],
      "execution_count": null,
      "outputs": []
    },
    {
      "cell_type": "code",
      "metadata": {
        "colab": {
          "base_uri": "https://localhost:8080/"
        },
        "id": "-iGoDzjTdUSw",
        "outputId": "dd4758a1-f195-4f72-f5fc-165450717adf"
      },
      "source": [
        "y.shape"
      ],
      "execution_count": null,
      "outputs": [
        {
          "output_type": "execute_result",
          "data": {
            "text/plain": [
              "(14316,)"
            ]
          },
          "metadata": {
            "tags": []
          },
          "execution_count": 159
        }
      ]
    },
    {
      "cell_type": "code",
      "metadata": {
        "colab": {
          "base_uri": "https://localhost:8080/"
        },
        "id": "zOZ-R6cndVII",
        "outputId": "61b1e017-b912-4809-9291-37ecd5cda31f"
      },
      "source": [
        "X.shape"
      ],
      "execution_count": null,
      "outputs": [
        {
          "output_type": "execute_result",
          "data": {
            "text/plain": [
              "(14316, 13)"
            ]
          },
          "metadata": {
            "tags": []
          },
          "execution_count": 160
        }
      ]
    },
    {
      "cell_type": "code",
      "metadata": {
        "id": "BLsiMhhMdWIC"
      },
      "source": [
        "seed = 42\n",
        "X_train, X_test, y_train, y_test = train_test_split(X,y,test_size=0.3, random_state = seed)"
      ],
      "execution_count": null,
      "outputs": []
    },
    {
      "cell_type": "code",
      "metadata": {
        "colab": {
          "base_uri": "https://localhost:8080/"
        },
        "id": "EpRHoFAldYKz",
        "outputId": "f0a72b0a-f135-40f5-e867-3b472b320c2c"
      },
      "source": [
        "X_train = X_train.fillna('na')\n",
        "X_test = X_test.fillna('na')\n",
        "X_train.dtypes"
      ],
      "execution_count": null,
      "outputs": [
        {
          "output_type": "execute_result",
          "data": {
            "text/plain": [
              "Outbreak Associated       object\n",
              "Age Group                 object\n",
              "Neighbourhood Name        object\n",
              "FSA                       object\n",
              "Source of Infection       object\n",
              "Classification            object\n",
              "Client Gender             object\n",
              "Currently Hospitalized    object\n",
              "Currently in ICU          object\n",
              "Currently Intubated       object\n",
              "Ever Hospitalized         object\n",
              "Ever in ICU               object\n",
              "Ever Intubated            object\n",
              "dtype: object"
            ]
          },
          "metadata": {
            "tags": []
          },
          "execution_count": 162
        }
      ]
    },
    {
      "cell_type": "code",
      "metadata": {
        "id": "UKwGLDuXdZVm"
      },
      "source": [
        "features_to_encode = list(X_train.select_dtypes(include = ['object']).columns) "
      ],
      "execution_count": null,
      "outputs": []
    },
    {
      "cell_type": "code",
      "metadata": {
        "id": "s8An5DCndbSV"
      },
      "source": [
        "#transforming the categorical variables, but does not touch the numerical ones\n",
        "\n",
        "from sklearn.preprocessing import OneHotEncoder\n",
        "from sklearn.compose import make_column_transformer\n",
        "col_trans = make_column_transformer(\n",
        "                        (OneHotEncoder(handle_unknown='ignore'),features_to_encode),\n",
        "                        remainder = \"passthrough\"\n",
        "                        )"
      ],
      "execution_count": null,
      "outputs": []
    },
    {
      "cell_type": "code",
      "metadata": {
        "id": "XJVfDRMedcbB"
      },
      "source": [
        "from sklearn.ensemble import RandomForestClassifier\n",
        "rf_classifier = RandomForestClassifier(\n",
        "                      min_samples_leaf=50,\n",
        "                      n_estimators=150,\n",
        "                      bootstrap=True,\n",
        "                      oob_score=True,\n",
        "                      n_jobs=-1,\n",
        "                      random_state=seed,\n",
        "                      max_features='auto')"
      ],
      "execution_count": null,
      "outputs": []
    },
    {
      "cell_type": "code",
      "metadata": {
        "colab": {
          "base_uri": "https://localhost:8080/"
        },
        "id": "2J_zNjFaddYH",
        "outputId": "219d12d9-54c8-40ac-ed74-050ad9f4ec98"
      },
      "source": [
        "from sklearn.pipeline import make_pipeline\n",
        "pipe = make_pipeline(col_trans, rf_classifier)\n",
        "pipe.fit(X_train, y_train)"
      ],
      "execution_count": null,
      "outputs": [
        {
          "output_type": "execute_result",
          "data": {
            "text/plain": [
              "Pipeline(memory=None,\n",
              "         steps=[('columntransformer',\n",
              "                 ColumnTransformer(n_jobs=None, remainder='passthrough',\n",
              "                                   sparse_threshold=0.3,\n",
              "                                   transformer_weights=None,\n",
              "                                   transformers=[('onehotencoder',\n",
              "                                                  OneHotEncoder(categories='auto',\n",
              "                                                                drop=None,\n",
              "                                                                dtype=<class 'numpy.float64'>,\n",
              "                                                                handle_unknown='ignore',\n",
              "                                                                sparse=True),\n",
              "                                                  ['Outbreak Associated',\n",
              "                                                   'Age Group',\n",
              "                                                   'Neighbourhood Name', 'FSA',\n",
              "                                                   'So...\n",
              "                 RandomForestClassifier(bootstrap=True, ccp_alpha=0.0,\n",
              "                                        class_weight=None, criterion='gini',\n",
              "                                        max_depth=None, max_features='auto',\n",
              "                                        max_leaf_nodes=None, max_samples=None,\n",
              "                                        min_impurity_decrease=0.0,\n",
              "                                        min_impurity_split=None,\n",
              "                                        min_samples_leaf=50,\n",
              "                                        min_samples_split=2,\n",
              "                                        min_weight_fraction_leaf=0.0,\n",
              "                                        n_estimators=150, n_jobs=-1,\n",
              "                                        oob_score=True, random_state=42,\n",
              "                                        verbose=0, warm_start=False))],\n",
              "         verbose=False)"
            ]
          },
          "metadata": {
            "tags": []
          },
          "execution_count": 166
        }
      ]
    },
    {
      "cell_type": "code",
      "metadata": {
        "colab": {
          "base_uri": "https://localhost:8080/"
        },
        "id": "2KhLg8Bade_o",
        "outputId": "26d14e5f-447b-4267-8a4b-5b2984dd6d81"
      },
      "source": [
        "y_pred = pipe.predict(X_test)\n",
        "y_pred"
      ],
      "execution_count": null,
      "outputs": [
        {
          "output_type": "execute_result",
          "data": {
            "text/plain": [
              "array([1, 1, 1, ..., 1, 1, 1])"
            ]
          },
          "metadata": {
            "tags": []
          },
          "execution_count": 167
        }
      ]
    },
    {
      "cell_type": "code",
      "metadata": {
        "colab": {
          "base_uri": "https://localhost:8080/"
        },
        "id": "iGbg3zqDdjoj",
        "outputId": "115c4d2f-a5d0-4802-e1d8-954c85ae58f8"
      },
      "source": [
        "#Getting accuracy of the train data\n",
        "from sklearn.metrics import accuracy_score, confusion_matrix, precision_score, recall_score, roc_auc_score, roc_curve, f1_score\n",
        "\n",
        "accuracy_score(y_test, y_pred)\n",
        "print(f\"The accuracy of the model is {round(accuracy_score(y_test,y_pred),3)*100} %\")"
      ],
      "execution_count": null,
      "outputs": [
        {
          "output_type": "stream",
          "text": [
            "The accuracy of the model is 92.4 %\n"
          ],
          "name": "stdout"
        }
      ]
    },
    {
      "cell_type": "code",
      "metadata": {
        "id": "PGtdZ5EBdkvs"
      },
      "source": [
        "train_probs = pipe.predict_proba(X_train)[:,1] \n",
        "probs = pipe.predict_proba(X_test)[:, 1]\n",
        "train_predictions = pipe.predict(X_train)"
      ],
      "execution_count": null,
      "outputs": []
    },
    {
      "cell_type": "code",
      "metadata": {
        "colab": {
          "base_uri": "https://localhost:8080/"
        },
        "id": "MNcR-z0GdmK2",
        "outputId": "bd695805-2e97-498b-9eb7-254be13a44ff"
      },
      "source": [
        "print(f'Train ROC AUC Score: {roc_auc_score(y_train, train_probs)}')\n",
        "print(f'Test ROC AUC  Score: {roc_auc_score(y_test, probs)}')"
      ],
      "execution_count": null,
      "outputs": [
        {
          "output_type": "stream",
          "text": [
            "Train ROC AUC Score: 0.9281251106480914\n",
            "Test ROC AUC  Score: 0.915521798101143\n"
          ],
          "name": "stdout"
        }
      ]
    },
    {
      "cell_type": "code",
      "metadata": {
        "colab": {
          "base_uri": "https://localhost:8080/"
        },
        "id": "V-YSaEBFdnLc",
        "outputId": "4d66eeb0-6ca1-4fac-adee-bf4015fc0257"
      },
      "source": [
        "#using model to predict Active COVID19 patients' Outcomes\n",
        "\n",
        "test = Active.fillna('na')\n",
        "test = test[['Outbreak Associated', 'Age Group', 'Neighbourhood Name', 'FSA',\n",
        "       'Source of Infection', 'Classification', 'Client Gender', 'Currently Hospitalized',\n",
        "       'Currently in ICU', 'Currently Intubated', 'Ever Hospitalized',\n",
        "       'Ever in ICU', 'Ever Intubated']]\n",
        "\n",
        "test.shape"
      ],
      "execution_count": null,
      "outputs": [
        {
          "output_type": "execute_result",
          "data": {
            "text/plain": [
              "(595, 13)"
            ]
          },
          "metadata": {
            "tags": []
          },
          "execution_count": 171
        }
      ]
    },
    {
      "cell_type": "code",
      "metadata": {
        "colab": {
          "base_uri": "https://localhost:8080/"
        },
        "id": "caePQ1qgdozQ",
        "outputId": "1b546698-7dee-4b79-e0cf-aa3adee80ba2"
      },
      "source": [
        "final_report = test\n",
        "final_report['Outcome'] = pipe.predict(test)\n",
        "final_report = final_report.loc[:,['Outcome']]\n",
        "\n",
        "final_report= final_report.replace(1, 'RESOLVED')\n",
        "final_report= final_report.replace(0, 'FATAL')\n",
        "\n",
        "final_report.Outcome.value_counts()"
      ],
      "execution_count": null,
      "outputs": [
        {
          "output_type": "execute_result",
          "data": {
            "text/plain": [
              "RESOLVED    595\n",
              "Name: Outcome, dtype: int64"
            ]
          },
          "metadata": {
            "tags": []
          },
          "execution_count": 172
        }
      ]
    },
    {
      "cell_type": "code",
      "metadata": {
        "colab": {
          "base_uri": "https://localhost:8080/"
        },
        "id": "26CGOocwdp2s",
        "outputId": "5427cbc0-7070-4030-f89e-e598aaa9a886"
      },
      "source": [
        "df=df.fillna(\"\")\n",
        "df.isnull().sum()\n",
        "\n",
        "Res = df[df['Outcome'] == 'RESOLVED']\n",
        "Fatal = df[df['Outcome'] == 'FATAL']\n",
        "Active = df[df['Outcome'] == 'ACTIVE']\n",
        "df_test = pd.concat([Res,Fatal]) ## Using RESOLVED and FATA data as our test data\n",
        "df_test.head()\n",
        "\n",
        "df_test.Outcome.value_counts(normalize=True)"
      ],
      "execution_count": null,
      "outputs": [
        {
          "output_type": "execute_result",
          "data": {
            "text/plain": [
              "RESOLVED    0.921696\n",
              "FATAL       0.078304\n",
              "Name: Outcome, dtype: float64"
            ]
          },
          "metadata": {
            "tags": []
          },
          "execution_count": 173
        }
      ]
    },
    {
      "cell_type": "markdown",
      "metadata": {
        "id": "UuUQwb25drOS"
      },
      "source": [
        "**Results**: Using the Random Forest Classifier in prediciting the test data (which are people with the \"ACTIVE\" status), we see that 595/595 people resolve from COVID19, meaning there are no fatal outcomes given a 92.5% accuracy. From our training data, we were expecting about 92% to resolve, and about 7% to have a fata outcome, though after running the model, it is giving us 100% resolved outcomes."
      ]
    },
    {
      "cell_type": "code",
      "metadata": {
        "id": "zdk6hLPMePxh"
      },
      "source": [
        ""
      ],
      "execution_count": null,
      "outputs": []
    }
  ]
}
